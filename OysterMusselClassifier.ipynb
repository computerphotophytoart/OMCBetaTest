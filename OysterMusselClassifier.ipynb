{
  "cells": [
    {
      "cell_type": "markdown",
      "metadata": {
        "id": "view-in-github",
        "colab_type": "text"
      },
      "source": [
        "<a href=\"https://colab.research.google.com/github/computerphotophytoart/OMCBetaTest/blob/main/OysterMusselClassifier.ipynb\" target=\"_parent\"><img src=\"https://colab.research.google.com/assets/colab-badge.svg\" alt=\"Open In Colab\"/></a>"
      ]
    },
    {
      "cell_type": "code",
      "execution_count": null,
      "id": "fbbf2d0b-b615-4d16-a6d6-1fed9abeea9d",
      "metadata": {
        "id": "fbbf2d0b-b615-4d16-a6d6-1fed9abeea9d"
      },
      "outputs": [],
      "source": [
        "!pip install -Uqq fastai\n",
        "from fastai.vision.all import * #This imports fastai library, -Uqq is used to silence output msgs"
      ]
    },
    {
      "cell_type": "code",
      "execution_count": null,
      "id": "d7c11fa3-9c96-4f8b-8cb8-8a9dc2a9ea79",
      "metadata": {
        "id": "d7c11fa3-9c96-4f8b-8cb8-8a9dc2a9ea79"
      },
      "outputs": [],
      "source": [
        "foodpath = untar_data(URLs.FOOD)"
      ]
    },
    {
      "cell_type": "code",
      "execution_count": null,
      "id": "12794c96-2c19-4d44-a61f-4f82a240dcc4",
      "metadata": {
        "id": "12794c96-2c19-4d44-a61f-4f82a240dcc4"
      },
      "outputs": [],
      "source": [
        "len(get_image_files(foodpath))"
      ]
    },
    {
      "cell_type": "code",
      "execution_count": null,
      "id": "61ee0349-96a2-43a6-ba60-41db72fd8fa2",
      "metadata": {
        "id": "61ee0349-96a2-43a6-ba60-41db72fd8fa2"
      },
      "outputs": [],
      "source": [
        "pd.read_json('/root/.fastai/data/food-101/test.json')"
      ]
    },
    {
      "cell_type": "code",
      "execution_count": null,
      "id": "512bfac5-849b-4b61-91bf-2ea6cd65dc04",
      "metadata": {
        "id": "512bfac5-849b-4b61-91bf-2ea6cd65dc04"
      },
      "outputs": [],
      "source": [
        "labelA = 'oysters'\n",
        "labelB = 'mussels'"
      ]
    },
    {
      "cell_type": "code",
      "source": [
        "for img in get_image_files(foodpath):\n",
        "  #Check if labelA is in file name\n",
        "  if labelA in str(img):\n",
        "    img.rename(f\"{img.parent}/{labelA}-{img.name}\")\n",
        "  elif labelB in str(img):\n",
        "    img.rename(f\"{img.parent}/{labelB}-{img.name}\")\n",
        "  else: os.remove(img)\n",
        "#If labelA or labelB aren't found, remove the files\n",
        "len(get_image_files(foodpath)) #Get number of images in directory"
      ],
      "metadata": {
        "id": "L9VPQb6IDVP7"
      },
      "id": "L9VPQb6IDVP7",
      "execution_count": null,
      "outputs": []
    },
    {
      "cell_type": "markdown",
      "source": [
        "**Model Training**"
      ],
      "metadata": {
        "id": "HTnsAPfEsJNr"
      },
      "id": "HTnsAPfEsJNr"
    },
    {
      "cell_type": "code",
      "source": [
        "def GetLabel(fileName):\n",
        "  return fileName.split('-')[0]\n",
        "\n",
        "GetLabel(\"oysters-987252.jpg\") #takes file name of an image as input. if the file name is 'oysters-987252.jpg', it extracts the label 'oysters' and returns it.\""
      ],
      "metadata": {
        "id": "sJSdgndxsWf1"
      },
      "id": "sJSdgndxsWf1",
      "execution_count": null,
      "outputs": []
    },
    {
      "cell_type": "code",
      "source": [
        "dls = ImageDataLoaders.from_name_func( #creates data loaders to retrieve files\n",
        "    foodpath, get_image_files(foodpath), valid_pct=0.2, seed=420, #retrieve files, takes only 20% with seed\n",
        "    label_func=GetLabel, item_tfms=Resize(32)) #resizes images to 32x32\n",
        "\n",
        "dls.train.show_batch() #display images from training set"
      ],
      "metadata": {
        "id": "DDWZ7b7fvA9O"
      },
      "id": "DDWZ7b7fvA9O",
      "execution_count": null,
      "outputs": []
    },
    {
      "cell_type": "code",
      "source": [
        "learn = vision_learner(dls, resnet34, metrics=error_rate, pretrained=True) #change resnet34 to resnet50 for faster results but longer training time\n",
        "learn.fine_tune(epochs=1) #more epochs = higher iterations so better results but longer waiting times. keep between 1-3."
      ],
      "metadata": {
        "id": "gxcNF5KNvVYC"
      },
      "id": "gxcNF5KNvVYC",
      "execution_count": null,
      "outputs": []
    },
    {
      "cell_type": "markdown",
      "source": [
        "**Model Testing**"
      ],
      "metadata": {
        "id": "9_3aem8jwfIy"
      },
      "id": "9_3aem8jwfIy"
    },
    {
      "cell_type": "code",
      "source": [
        "from google.colab import files\n",
        "uploader = files.upload()\n",
        "\n",
        "for img in uploader.items():\n",
        "  uploadedImg = img[0]\n",
        "\n",
        "img = PILImage.create(uploadedImg)\n",
        "img.show()\n",
        "\n",
        "label,_,probs = learn.predict(img)\n",
        "\n",
        "print(f\"This is a {label}.\")\n",
        "print(f\"{labelA} {probs[1].item():.6f}\")\n",
        "print(f\"{labelB} {probs[0].item():.6f}\")"
      ],
      "metadata": {
        "id": "GEJDr2WXwcbR"
      },
      "id": "GEJDr2WXwcbR",
      "execution_count": null,
      "outputs": []
    },
    {
      "cell_type": "code",
      "source": [
        "import matplotlib.pyplot as plt\n",
        "import matplotlib.image as mpimg\n",
        "\n",
        "for i in range(0,10):\n",
        "  #Load random image\n",
        "  randomIndex = random.randint(0, len(get_image_files(foodpath))-1)\n",
        "  img = mpimg.imread(get_image_files(foodpath)[randomIndex])\n",
        "  #Put into Model\n",
        "  label,_,probs = learn.predict(img)\n",
        "\n",
        "  #Create Figure using Matplotlib\n",
        "  fig = plt.figure()\n",
        "  ax = fig.add_subplot() #Add Subplot (For multiple images)\n",
        "  imgplot = plt.imshow(img) #Add Image into Plot\n",
        "  ax.set_title(label) #Set Headline to predicted label\n",
        "\n",
        "  #Hide numbers on axes\n",
        "  plt.gca().axes.get_yaxis().set_visible(False)\n",
        "  plt.gca().axes.get_xaxis().set_visible(False)"
      ],
      "metadata": {
        "id": "PBsUjNyqw-1c"
      },
      "id": "PBsUjNyqw-1c",
      "execution_count": null,
      "outputs": []
    },
    {
      "cell_type": "code",
      "source": [
        "#Confusion Matrix\n",
        "interp = ClassificationInterpretation.from_learner(learn)\n",
        "interp.plot_confusion_matrix()\n",
        "interp.plot_top_losses(6)"
      ],
      "metadata": {
        "id": "QrfhzL9jJzRd"
      },
      "id": "QrfhzL9jJzRd",
      "execution_count": null,
      "outputs": []
    },
    {
      "cell_type": "markdown",
      "source": [
        "**Download Model**"
      ],
      "metadata": {
        "id": "p4ZbddeeKBSS"
      },
      "id": "p4ZbddeeKBSS"
    },
    {
      "cell_type": "code",
      "source": [
        "learn.export()"
      ],
      "metadata": {
        "id": "i2HxwkMZKI4x"
      },
      "id": "i2HxwkMZKI4x",
      "execution_count": null,
      "outputs": []
    },
    {
      "cell_type": "code",
      "source": [
        "modelPath = get_files(foodpath, '.pkl')[0]\n",
        "modelPath"
      ],
      "metadata": {
        "id": "1PHEsxJGKRHf"
      },
      "id": "1PHEsxJGKRHf",
      "execution_count": null,
      "outputs": []
    },
    {
      "cell_type": "code",
      "source": [
        "learn_inf = load_learner(modelPath)\n",
        "learn_inf.predict(mpimg.imread(get_image_files(foodpath)[0]))"
      ],
      "metadata": {
        "id": "7dZjV94RKUpW"
      },
      "id": "7dZjV94RKUpW",
      "execution_count": null,
      "outputs": []
    },
    {
      "cell_type": "code",
      "source": [
        "learn_inf.dls.vocab"
      ],
      "metadata": {
        "id": "DKDxLbg_KgFg"
      },
      "id": "DKDxLbg_KgFg",
      "execution_count": null,
      "outputs": []
    },
    {
      "cell_type": "code",
      "source": [
        "from google.colab import files\n",
        "files.download(modelPath)"
      ],
      "metadata": {
        "id": "2dmDdvdgKpGZ"
      },
      "id": "2dmDdvdgKpGZ",
      "execution_count": null,
      "outputs": []
    }
  ],
  "metadata": {
    "kernelspec": {
      "display_name": "Python 3",
      "name": "python3"
    },
    "language_info": {
      "codemirror_mode": {
        "name": "ipython",
        "version": 3
      },
      "file_extension": ".py",
      "mimetype": "text/x-python",
      "name": "python",
      "nbconvert_exporter": "python",
      "pygments_lexer": "ipython3",
      "version": "3.12.3"
    },
    "colab": {
      "provenance": [],
      "include_colab_link": true
    }
  },
  "nbformat": 4,
  "nbformat_minor": 5
}